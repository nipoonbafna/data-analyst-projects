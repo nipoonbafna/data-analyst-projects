# Sales Insights Dashboard
This project analyzes sales data using Python (Pandas) and exports results for Power BI/Excel.
- sales_data.csv is the dataset
