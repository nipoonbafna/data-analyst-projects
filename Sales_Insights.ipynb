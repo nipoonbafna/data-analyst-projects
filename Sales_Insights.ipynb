{
  "nbformat": 4,
  "nbformat_minor": 0,
  "metadata": {
    "colab": {
      "provenance": [],
      "authorship_tag": "ABX9TyObuLLyLa8EJbrrpbvH5RaV",
      "include_colab_link": true
    },
    "kernelspec": {
      "name": "python3",
      "display_name": "Python 3"
    },
    "language_info": {
      "name": "python"
    }
  },
  "cells": [
    {
      "cell_type": "markdown",
      "metadata": {
        "id": "view-in-github",
        "colab_type": "text"
      },
      "source": [
        "<a href=\"https://colab.research.google.com/github/nipoonbafna/data-analyst-projects/blob/main/Sales_Insights.ipynb\" target=\"_parent\"><img src=\"https://colab.research.google.com/assets/colab-badge.svg\" alt=\"Open In Colab\"/></a>"
      ]
    },
    {
      "cell_type": "code",
      "execution_count": null,
      "metadata": {
        "colab": {
          "base_uri": "https://localhost:8080/"
        },
        "id": "uhuGM99-8X1w",
        "outputId": "59e1523a-d039-42e7-8e7d-35fdfcb9a1d3"
      },
      "outputs": [
        {
          "output_type": "stream",
          "name": "stdout",
          "text": [
            "Total Sales by Region:\n",
            "   Region  Revenue\n",
            "0   East    28000\n",
            "1  North    28000\n",
            "2  South    28000\n",
            "3   West    28000\n",
            "\n",
            "Total Profit by Product:\n",
            "   Product  Profit\n",
            "0       A    4800\n",
            "1       B    6000\n",
            "2       C    3600\n",
            "3       D    8000\n",
            "4       E    2800\n"
          ]
        }
      ],
      "source": [
        "# Sales Insights Project\n",
        "\n",
        "import pandas as pd\n",
        "\n",
        "# Sample sales dataset\n",
        "data = {\n",
        "    \"Region\": [\"North\", \"South\", \"East\", \"West\"] * 5,\n",
        "    \"Product\": [\"A\", \"B\", \"C\", \"D\", \"E\"] * 4,\n",
        "    \"Revenue\": [5000, 7000, 4000, 9000, 3000] * 4,\n",
        "    \"Profit\": [1200, 1500, 900, 2000, 700] * 4,\n",
        "    \"Month\": [\"Jan\", \"Feb\", \"Mar\", \"Apr\", \"May\"] * 4\n",
        "}\n",
        "\n",
        "df = pd.DataFrame(data)\n",
        "\n",
        "# Aggregate revenue by region\n",
        "region_sales = df.groupby(\"Region\")[\"Revenue\"].sum().reset_index()\n",
        "print(\"Total Sales by Region:\\n\", region_sales)\n",
        "\n",
        "# Aggregate profit by product\n",
        "product_profit = df.groupby(\"Product\")[\"Profit\"].sum().reset_index()\n",
        "print(\"\\nTotal Profit by Product:\\n\", product_profit)\n",
        "\n",
        "# Export for Power BI / Excel dashboard\n",
        "df.to_csv(\"sales_data.csv\", index=False)\n"
      ]
    },
    {
      "cell_type": "code",
      "source": [],
      "metadata": {
        "id": "6mNzesv98ec3"
      },
      "execution_count": null,
      "outputs": []
    },
    {
      "cell_type": "code",
      "metadata": {
        "id": "6cfa08ae"
      },
      "source": [
        "from google.colab import files\n",
        "\n",
        "uploaded = files.upload()\n",
        "\n",
        "for fn in uploaded.keys():\n",
        "  print('User uploaded file \"{name}\" with length {length} bytes'.format(\n",
        "      name=fn, length=len(uploaded[fn])))"
      ],
      "execution_count": null,
      "outputs": []
    }
  ]
}