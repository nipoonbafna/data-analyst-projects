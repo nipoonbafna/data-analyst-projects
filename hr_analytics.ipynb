# HR Analytics Project
This project analyzes employee attrition trends using Python (Pandas, Matplotlib).
- hr_data.csv is the dataset
