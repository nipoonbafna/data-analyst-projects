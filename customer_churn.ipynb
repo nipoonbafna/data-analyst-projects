# Customer Churn Analysis
This project analyzes churn patterns using SQL-like queries and Python (Pandas, Matplotlib).
- customer_churn.csv is the dataset
